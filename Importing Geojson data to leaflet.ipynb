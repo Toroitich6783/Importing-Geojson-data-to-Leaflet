{
 "cells": [
  {
   "cell_type": "code",
   "execution_count": 2,
   "id": "6dac460d-83ad-4ccc-8c21-2d317a947ee1",
   "metadata": {},
   "outputs": [],
   "source": [
    "import ee\n",
    "import geemap"
   ]
  },
  {
   "cell_type": "code",
   "execution_count": 5,
   "id": "14520f73-c567-4d1c-aa16-85f44fdf91df",
   "metadata": {},
   "outputs": [
    {
     "data": {
      "text/html": [
       "\n",
       "            <style>\n",
       "                .geemap-dark {\n",
       "                    --jp-widgets-color: white;\n",
       "                    --jp-widgets-label-color: white;\n",
       "                    --jp-ui-font-color1: white;\n",
       "                    --jp-layout-color2: #454545;\n",
       "                    background-color: #383838;\n",
       "                }\n",
       "\n",
       "                .geemap-dark .jupyter-button {\n",
       "                    --jp-layout-color3: #383838;\n",
       "                }\n",
       "\n",
       "                .geemap-colab {\n",
       "                    background-color: var(--colab-primary-surface-color, white);\n",
       "                }\n",
       "\n",
       "                .geemap-colab .jupyter-button {\n",
       "                    --jp-layout-color3: var(--colab-primary-surface-color, white);\n",
       "                }\n",
       "            </style>\n",
       "            "
      ],
      "text/plain": [
       "<IPython.core.display.HTML object>"
      ]
     },
     "metadata": {},
     "output_type": "display_data"
    },
    {
     "data": {
      "text/html": [
       "\n",
       "<!DOCTYPE html>\n",
       "<html>\n",
       "<head>\n",
       "    <title>Folium GeoJSON Uploader</title>\n",
       "    <meta charset=\"utf-8\" />\n",
       "    <meta name=\"viewport\" content=\"width=device-width, initial-scale=1.0\">\n",
       "    <link rel=\"stylesheet\" href=\"https://unpkg.com/leaflet@1.7.1/dist/leaflet.css\" />\n",
       "    <script src=\"https://unpkg.com/leaflet@1.7.1/dist/leaflet.js\"></script>\n",
       "    <script src=\"https://code.jquery.com/jquery-3.6.0.min.js\"></script>\n",
       "</head>\n",
       "<body>\n",
       "    <h3>Upload GeoJSON File to Display on Map</h3>\n",
       "    <input type=\"file\" id=\"file-input\" />\n",
       "    <div id=\"map\" style=\"width: 100%; height: 600px;\"></div>\n",
       "\n",
       "    <script>\n",
       "        // Initialize the map\n",
       "        var map = L.map('map').setView([45.5236, -122.6750], 13);\n",
       "\n",
       "        // Add the base layer\n",
       "        L.tileLayer('https://{s}.tile.openstreetmap.org/{z}/{x}/{y}.png', {\n",
       "            attribution: '&copy; <a href=\"https://www.openstreetmap.org/copyright\">OpenStreetMap</a> contributors'\n",
       "        }).addTo(map);\n",
       "\n",
       "        // Handle the file input change event\n",
       "        document.getElementById('file-input').addEventListener('change', function(event) {\n",
       "            var file = event.target.files[0];\n",
       "            if (file) {\n",
       "                var reader = new FileReader();\n",
       "                reader.onload = function(e) {\n",
       "                    var geojsonData = JSON.parse(e.target.result);\n",
       "                    L.geoJSON(geojsonData).addTo(map);\n",
       "                };\n",
       "                reader.readAsText(file);\n",
       "            }\n",
       "        });\n",
       "    </script>\n",
       "</body>\n",
       "</html>\n"
      ],
      "text/plain": [
       "<IPython.core.display.HTML object>"
      ]
     },
     "execution_count": 5,
     "metadata": {},
     "output_type": "execute_result"
    }
   ],
   "source": [
    "import folium\n",
    "from IPython.display import HTML\n",
    "\n",
    "# Create a map centered on a location\n",
    "m = folium.Map(location=[45.5236, -122.6750], zoom_start=13)\n",
    "\n",
    "# Save the map to an HTML file\n",
    "m.save(\"map.html\")\n",
    "\n",
    "# Create the HTML content with the file input and the map\n",
    "html_content = \"\"\"\n",
    "<!DOCTYPE html>\n",
    "<html>\n",
    "<head>\n",
    "    <title>Folium GeoJSON Uploader</title>\n",
    "    <meta charset=\"utf-8\" />\n",
    "    <meta name=\"viewport\" content=\"width=device-width, initial-scale=1.0\">\n",
    "    <link rel=\"stylesheet\" href=\"https://unpkg.com/leaflet@1.7.1/dist/leaflet.css\" />\n",
    "    <script src=\"https://unpkg.com/leaflet@1.7.1/dist/leaflet.js\"></script>\n",
    "    <script src=\"https://code.jquery.com/jquery-3.6.0.min.js\"></script>\n",
    "</head>\n",
    "<body>\n",
    "    <h3>Upload GeoJSON File to Display on Map</h3>\n",
    "    <input type=\"file\" id=\"file-input\" />\n",
    "    <div id=\"map\" style=\"width: 100%; height: 600px;\"></div>\n",
    "\n",
    "    <script>\n",
    "        // Initialize the map\n",
    "        var map = L.map('map').setView([45.5236, -122.6750], 13);\n",
    "\n",
    "        // Add the base layer\n",
    "        L.tileLayer('https://{s}.tile.openstreetmap.org/{z}/{x}/{y}.png', {\n",
    "            attribution: '&copy; <a href=\"https://www.openstreetmap.org/copyright\">OpenStreetMap</a> contributors'\n",
    "        }).addTo(map);\n",
    "\n",
    "        // Handle the file input change event\n",
    "        document.getElementById('file-input').addEventListener('change', function(event) {\n",
    "            var file = event.target.files[0];\n",
    "            if (file) {\n",
    "                var reader = new FileReader();\n",
    "                reader.onload = function(e) {\n",
    "                    var geojsonData = JSON.parse(e.target.result);\n",
    "                    L.geoJSON(geojsonData).addTo(map);\n",
    "                };\n",
    "                reader.readAsText(file);\n",
    "            }\n",
    "        });\n",
    "    </script>\n",
    "</body>\n",
    "</html>\n",
    "\"\"\"\n",
    "\n",
    "# Save the HTML content to a file\n",
    "with open(\"map_with_upload.html\", \"w\") as file:\n",
    "    file.write(html_content)\n",
    "\n",
    "# Display the HTML content in the notebook\n",
    "HTML(html_content)\n"
   ]
  },
  {
   "cell_type": "code",
   "execution_count": 6,
   "id": "061eede8-af9b-4209-bd43-69533ce55dca",
   "metadata": {},
   "outputs": [
    {
     "data": {
      "text/html": [
       "\n",
       "            <style>\n",
       "                .geemap-dark {\n",
       "                    --jp-widgets-color: white;\n",
       "                    --jp-widgets-label-color: white;\n",
       "                    --jp-ui-font-color1: white;\n",
       "                    --jp-layout-color2: #454545;\n",
       "                    background-color: #383838;\n",
       "                }\n",
       "\n",
       "                .geemap-dark .jupyter-button {\n",
       "                    --jp-layout-color3: #383838;\n",
       "                }\n",
       "\n",
       "                .geemap-colab {\n",
       "                    background-color: var(--colab-primary-surface-color, white);\n",
       "                }\n",
       "\n",
       "                .geemap-colab .jupyter-button {\n",
       "                    --jp-layout-color3: var(--colab-primary-surface-color, white);\n",
       "                }\n",
       "            </style>\n",
       "            "
      ],
      "text/plain": [
       "<IPython.core.display.HTML object>"
      ]
     },
     "metadata": {},
     "output_type": "display_data"
    }
   ],
   "source": [
    "geojsonData={\"type\":\"FeatureCollection\",\"features\":[{\"type\":\"Feature\",\"properties\":{},\"geometry\":{\"type\":\"Polygon\",\"coordinates\":[[[-9.255981,51.579068],[-7.036743,52.229442],[-6.38855,54.05348],[-5.762329,54.227159],[-5.559082,54.803809],[-7.053223,55.431774],[-8.459473,54.879687],[-8.547363,54.165932],[-9.821777,54.473355],[-9.865723,53.413478],[-11.096191,51.731995],[-9.255981,51.579068]]]}}]}"
   ]
  },
  {
   "cell_type": "code",
   "execution_count": 8,
   "id": "8bd813cf-ec42-4775-9959-99b1ce15f6b9",
   "metadata": {},
   "outputs": [
    {
     "data": {
      "text/html": [
       "\n",
       "            <style>\n",
       "                .geemap-dark {\n",
       "                    --jp-widgets-color: white;\n",
       "                    --jp-widgets-label-color: white;\n",
       "                    --jp-ui-font-color1: white;\n",
       "                    --jp-layout-color2: #454545;\n",
       "                    background-color: #383838;\n",
       "                }\n",
       "\n",
       "                .geemap-dark .jupyter-button {\n",
       "                    --jp-layout-color3: #383838;\n",
       "                }\n",
       "\n",
       "                .geemap-colab {\n",
       "                    background-color: var(--colab-primary-surface-color, white);\n",
       "                }\n",
       "\n",
       "                .geemap-colab .jupyter-button {\n",
       "                    --jp-layout-color3: var(--colab-primary-surface-color, white);\n",
       "                }\n",
       "            </style>\n",
       "            "
      ],
      "text/plain": [
       "<IPython.core.display.HTML object>"
      ]
     },
     "metadata": {},
     "output_type": "display_data"
    },
    {
     "name": "stdout",
     "output_type": "stream",
     "text": [
      "{'type': 'FeatureCollection', 'columns': {'system:index': 'String'}, 'features': [{'type': 'Feature', 'geometry': {'type': 'Polygon', 'coordinates': [[[-9.255981, 51.579068], [-7.036743, 52.229442], [-6.38855, 54.05348], [-5.762329, 54.227159], [-5.559082, 54.803809], [-7.053223, 55.431774], [-8.459473, 54.879687], [-8.547363, 54.165932], [-9.821777, 54.473355], [-9.865723, 53.413478], [-11.096191, 51.731995], [-9.255981, 51.579068]]]}, 'id': '0', 'properties': {}}]}\n"
     ]
    }
   ],
   "source": [
    "import ee\n",
    "import json\n",
    "\n",
    "# Initialize the Earth Engine API\n",
    "ee.Initialize()\n",
    "\n",
    "# Corrected GeoJSON data\n",
    "\n",
    "# Convert the GeoJSON data to a Feature Collection\n",
    "feature_collection = ee.FeatureCollection(geojsonData)\n",
    "\n",
    "# Print the Feature Collection to check\n",
    "print(feature_collection.getInfo())\n"
   ]
  },
  {
   "cell_type": "code",
   "execution_count": null,
   "id": "9415d5d3-5174-4dc9-a4dd-41dc361e2fc1",
   "metadata": {},
   "outputs": [],
   "source": [
    "Map.centerObject(feature_collection,12)\n",
    "Map.addLayer(feature_collection,{}, \"Boundaries\")\n",
    "Map"
   ]
  }
 ],
 "metadata": {
  "kernelspec": {
   "display_name": "Python 3 (ipykernel)",
   "language": "python",
   "name": "python3"
  },
  "language_info": {
   "codemirror_mode": {
    "name": "ipython",
    "version": 3
   },
   "file_extension": ".py",
   "mimetype": "text/x-python",
   "name": "python",
   "nbconvert_exporter": "python",
   "pygments_lexer": "ipython3",
   "version": "3.9.19"
  }
 },
 "nbformat": 4,
 "nbformat_minor": 5
}
